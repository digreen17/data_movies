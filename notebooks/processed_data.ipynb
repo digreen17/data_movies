{
 "cells": [
  {
   "cell_type": "code",
   "execution_count": 1,
   "id": "d028805f",
   "metadata": {},
   "outputs": [],
   "source": [
    "import pandas as pd\n",
    "import matplotlib.pyplot as plt\n",
    "from matplotlib.ticker import FuncFormatter"
   ]
  },
  {
   "cell_type": "code",
   "execution_count": 2,
   "id": "4557c75b",
   "metadata": {},
   "outputs": [],
   "source": [
    "df_result = pd.read_csv(r'../data/processed/processed_data.csv')"
   ]
  },
  {
   "cell_type": "code",
   "execution_count": 3,
   "id": "26290ab9",
   "metadata": {},
   "outputs": [
    {
     "name": "stdout",
     "output_type": "stream",
     "text": [
      "<class 'pandas.core.frame.DataFrame'>\n",
      "RangeIndex: 13419 entries, 0 to 13418\n",
      "Data columns (total 15 columns):\n",
      " #   Column             Non-Null Count  Dtype  \n",
      "---  ------             --------------  -----  \n",
      " 0   Unnamed: 0         13419 non-null  int64  \n",
      " 1   id                 13419 non-null  int64  \n",
      " 2   title              13419 non-null  object \n",
      " 3   vote_average       13419 non-null  float64\n",
      " 4   release_date       13419 non-null  object \n",
      " 5   revenue            13419 non-null  int64  \n",
      " 6   budget             13419 non-null  int64  \n",
      " 7   original_language  13419 non-null  object \n",
      " 8   original_title     13419 non-null  object \n",
      " 9   genres             13419 non-null  object \n",
      " 10  main_country       13072 non-null  object \n",
      " 11  cpi_date           13419 non-null  object \n",
      " 12  cpi                13419 non-null  float64\n",
      " 13  current_budget     13419 non-null  float64\n",
      " 14  current_revenue    13419 non-null  float64\n",
      "dtypes: float64(4), int64(4), object(7)\n",
      "memory usage: 1.5+ MB\n"
     ]
    }
   ],
   "source": [
    "df_result.info()"
   ]
  },
  {
   "cell_type": "code",
   "execution_count": 4,
   "id": "dd4fc763",
   "metadata": {},
   "outputs": [
    {
     "data": {
      "text/plain": [
       "np.int64(0)"
      ]
     },
     "execution_count": 4,
     "metadata": {},
     "output_type": "execute_result"
    }
   ],
   "source": [
    "df_result.duplicated().sum()"
   ]
  },
  {
   "cell_type": "code",
   "execution_count": 5,
   "id": "1416c556",
   "metadata": {},
   "outputs": [
    {
     "data": {
      "text/plain": [
       "np.int64(0)"
      ]
     },
     "execution_count": 5,
     "metadata": {},
     "output_type": "execute_result"
    }
   ],
   "source": [
    "df_result[['original_title', 'release_date']].duplicated().sum()"
   ]
  },
  {
   "cell_type": "code",
   "execution_count": 6,
   "id": "6034f8a9",
   "metadata": {},
   "outputs": [
    {
     "data": {
      "text/plain": [
       "'1913-11-24'"
      ]
     },
     "execution_count": 6,
     "metadata": {},
     "output_type": "execute_result"
    }
   ],
   "source": [
    "df_result['release_date'].min()"
   ]
  },
  {
   "cell_type": "code",
   "execution_count": 7,
   "id": "55ba7187",
   "metadata": {},
   "outputs": [
    {
     "data": {
      "text/plain": [
       "'2025-04-12'"
      ]
     },
     "execution_count": 7,
     "metadata": {},
     "output_type": "execute_result"
    }
   ],
   "source": [
    "df_result['release_date'].max()"
   ]
  },
  {
   "cell_type": "code",
   "execution_count": 8,
   "id": "7f9d8155",
   "metadata": {},
   "outputs": [
    {
     "data": {
      "text/plain": [
       "np.int64(0)"
      ]
     },
     "execution_count": 8,
     "metadata": {},
     "output_type": "execute_result"
    }
   ],
   "source": [
    "df_result['cpi'].isna().sum()"
   ]
  }
 ],
 "metadata": {
  "kernelspec": {
   "display_name": ".venv",
   "language": "python",
   "name": "python3"
  },
  "language_info": {
   "codemirror_mode": {
    "name": "ipython",
    "version": 3
   },
   "file_extension": ".py",
   "mimetype": "text/x-python",
   "name": "python",
   "nbconvert_exporter": "python",
   "pygments_lexer": "ipython3",
   "version": "3.10.13"
  }
 },
 "nbformat": 4,
 "nbformat_minor": 5
}
