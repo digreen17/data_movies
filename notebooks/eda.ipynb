{
 "cells": [
  {
   "cell_type": "markdown",
   "id": "a3d037e6",
   "metadata": {},
   "source": [
    "Датасет **tmdb_data** содержит информацию о фильмах, собранную с платформы TMDB\n",
    "\n",
    "- `id` - уникальный идентификатор фильма\n",
    "- `title` - англоязычное название фильма\n",
    "- `original_title` - оригинальное название фильма\n",
    "- `original_language` - язык оригинала\n",
    "- `release_date` - дата выхода фильма\n",
    "- `genres` - жанры фильма\n",
    "- `budget` - бюджет фильма (в долларах)\n",
    "- `revenue` - кассовые сборы, доход (в долларах)\n",
    "- `vote_average` - рейтинг фильма, основанный на пользовательских голосах\n",
    "- `production_countries` - список стран, учавствовавших в производстве фильма"
   ]
  },
  {
   "cell_type": "markdown",
   "id": "940d355f",
   "metadata": {},
   "source": [
    "Датасет **cpi_data** содержит информацию о значении cpi на каждый месяц с 1913 года\n",
    "\n",
    "- `cpi_date` - дата (ГГГГ-ММ-01)\n",
    "- `cpi` - значение cpi"
   ]
  },
  {
   "cell_type": "code",
   "execution_count": 1,
   "id": "32703238",
   "metadata": {},
   "outputs": [],
   "source": [
    "import pandas as pd\n",
    "import matplotlib.pyplot as plt\n",
    "from matplotlib.ticker import FuncFormatter"
   ]
  },
  {
   "cell_type": "code",
   "execution_count": 2,
   "id": "ed94858b",
   "metadata": {},
   "outputs": [],
   "source": [
    "pd.options.display.float_format='{:.2f}'.format\n",
    "pd.set_option('display.max_columns', None)"
   ]
  },
  {
   "cell_type": "markdown",
   "id": "4f810d0d",
   "metadata": {},
   "source": [
    "- Загружаем датасеты, оставляя необходимые столбцы \n",
    "- Преобразовываем типы данных (`year` в датасете cpi_data и `release_date` в tmdb_data)\n",
    "- Переименовываем столбец `year` в датасете cpi_data на `cpi_date`"
   ]
  },
  {
   "cell_type": "code",
   "execution_count": 3,
   "id": "b11f0c5b",
   "metadata": {},
   "outputs": [],
   "source": [
    "columns_tmdb = [\n",
    "    \"id\",\n",
    "    \"title\",                 \n",
    "    \"original_title\",        \n",
    "    \"original_language\",     \n",
    "    \"release_date\",          \n",
    "    \"genres\",                \n",
    "    \"budget\",                \n",
    "    \"revenue\",               \n",
    "    \"vote_average\",          \n",
    "    \"production_countries\"   \n",
    "]"
   ]
  },
  {
   "cell_type": "code",
   "execution_count": 4,
   "id": "92c9f4fc",
   "metadata": {},
   "outputs": [],
   "source": [
    "df_tmdb = pd.read_csv(\n",
    "    '../data/raw/tmdb_data.csv',\n",
    "    usecols=columns_tmdb,\n",
    "    parse_dates=['release_date']\n",
    "    )\n",
    "df_cpi = pd.read_csv(\n",
    "    '../data/raw/cpi_data.csv',\n",
    "    parse_dates=['year']\n",
    "    ).rename(columns={'year': 'cpi_date'})"
   ]
  },
  {
   "cell_type": "code",
   "execution_count": 5,
   "id": "612c3522",
   "metadata": {},
   "outputs": [
    {
     "name": "stdout",
     "output_type": "stream",
     "text": [
      "<class 'pandas.core.frame.DataFrame'>\n",
      "RangeIndex: 1349 entries, 0 to 1348\n",
      "Data columns (total 2 columns):\n",
      " #   Column    Non-Null Count  Dtype         \n",
      "---  ------    --------------  -----         \n",
      " 0   cpi_date  1349 non-null   datetime64[ns]\n",
      " 1   cpi       1349 non-null   float64       \n",
      "dtypes: datetime64[ns](1), float64(1)\n",
      "memory usage: 21.2 KB\n"
     ]
    }
   ],
   "source": [
    "df_cpi.info()"
   ]
  },
  {
   "cell_type": "code",
   "execution_count": 6,
   "id": "3ec42c94",
   "metadata": {},
   "outputs": [
    {
     "name": "stdout",
     "output_type": "stream",
     "text": [
      "Датасет df_cpi состоит из:\n",
      "- 1349 строк\n",
      "- 2 столбцов\n"
     ]
    }
   ],
   "source": [
    "print(f'''Датасет df_cpi состоит из:\n",
    "- {df_cpi.shape[0]} строк\n",
    "- {df_cpi.shape[1]} столбцов''')"
   ]
  },
  {
   "cell_type": "code",
   "execution_count": 7,
   "id": "240e7384",
   "metadata": {},
   "outputs": [
    {
     "data": {
      "text/html": [
       "<div>\n",
       "<style scoped>\n",
       "    .dataframe tbody tr th:only-of-type {\n",
       "        vertical-align: middle;\n",
       "    }\n",
       "\n",
       "    .dataframe tbody tr th {\n",
       "        vertical-align: top;\n",
       "    }\n",
       "\n",
       "    .dataframe thead th {\n",
       "        text-align: right;\n",
       "    }\n",
       "</style>\n",
       "<table border=\"1\" class=\"dataframe\">\n",
       "  <thead>\n",
       "    <tr style=\"text-align: right;\">\n",
       "      <th></th>\n",
       "      <th>cpi_date</th>\n",
       "      <th>cpi</th>\n",
       "    </tr>\n",
       "  </thead>\n",
       "  <tbody>\n",
       "    <tr>\n",
       "      <th>0</th>\n",
       "      <td>1913-01-01</td>\n",
       "      <td>9.80</td>\n",
       "    </tr>\n",
       "    <tr>\n",
       "      <th>1</th>\n",
       "      <td>1913-02-01</td>\n",
       "      <td>9.80</td>\n",
       "    </tr>\n",
       "    <tr>\n",
       "      <th>2</th>\n",
       "      <td>1913-03-01</td>\n",
       "      <td>9.80</td>\n",
       "    </tr>\n",
       "  </tbody>\n",
       "</table>\n",
       "</div>"
      ],
      "text/plain": [
       "    cpi_date  cpi\n",
       "0 1913-01-01 9.80\n",
       "1 1913-02-01 9.80\n",
       "2 1913-03-01 9.80"
      ]
     },
     "execution_count": 7,
     "metadata": {},
     "output_type": "execute_result"
    }
   ],
   "source": [
    "df_cpi.head(3)"
   ]
  },
  {
   "cell_type": "markdown",
   "id": "3afbd4e3",
   "metadata": {},
   "source": [
    "- Объявляем переменную **latest_cpi**, которая будет хранить информацию о последнем зафиксированном значении cpi"
   ]
  },
  {
   "cell_type": "code",
   "execution_count": 8,
   "id": "77ed384f",
   "metadata": {},
   "outputs": [
    {
     "name": "stdout",
     "output_type": "stream",
     "text": [
      "Значение актуального CPI = 321.465\n"
     ]
    }
   ],
   "source": [
    "latest_cpi = df_cpi.loc[df_cpi['cpi_date'].idxmax(), 'cpi']\n",
    "print(f'Значение актуального CPI = {latest_cpi}')"
   ]
  },
  {
   "cell_type": "code",
   "execution_count": 9,
   "id": "d6601b5f",
   "metadata": {},
   "outputs": [
    {
     "name": "stdout",
     "output_type": "stream",
     "text": [
      "<class 'pandas.core.frame.DataFrame'>\n",
      "RangeIndex: 1243889 entries, 0 to 1243888\n",
      "Data columns (total 10 columns):\n",
      " #   Column                Non-Null Count    Dtype         \n",
      "---  ------                --------------    -----         \n",
      " 0   id                    1243889 non-null  int64         \n",
      " 1   title                 1243876 non-null  object        \n",
      " 2   vote_average          1243889 non-null  float64       \n",
      " 3   release_date          1009427 non-null  datetime64[ns]\n",
      " 4   revenue               1243889 non-null  int64         \n",
      " 5   budget                1243889 non-null  int64         \n",
      " 6   original_language     1243889 non-null  object        \n",
      " 7   original_title        1243876 non-null  object        \n",
      " 8   genres                723902 non-null   object        \n",
      " 9   production_countries  669919 non-null   object        \n",
      "dtypes: datetime64[ns](1), float64(1), int64(3), object(5)\n",
      "memory usage: 94.9+ MB\n"
     ]
    }
   ],
   "source": [
    "df_tmdb.info()"
   ]
  },
  {
   "cell_type": "code",
   "execution_count": 10,
   "id": "a673505a",
   "metadata": {},
   "outputs": [
    {
     "name": "stdout",
     "output_type": "stream",
     "text": [
      "Датасет df_tmdb состоит из:\n",
      "- 1243889 строк\n",
      "- 10 столбцов\n"
     ]
    }
   ],
   "source": [
    "print(f'''Датасет df_tmdb состоит из:\n",
    "- {df_tmdb.shape[0]} строк\n",
    "- {df_tmdb.shape[1]} столбцов''')"
   ]
  },
  {
   "cell_type": "markdown",
   "id": "6b9d493b",
   "metadata": {},
   "source": [
    "- Сохраняем в переменную **old_rows** данные о количестве строк в датасете с фильмами до предобработки, чтобы позже оценить количество удаленной информации"
   ]
  },
  {
   "cell_type": "code",
   "execution_count": 11,
   "id": "afaf0600",
   "metadata": {},
   "outputs": [
    {
     "data": {
      "text/plain": [
       "1243889"
      ]
     },
     "execution_count": 11,
     "metadata": {},
     "output_type": "execute_result"
    }
   ],
   "source": [
    "old_rows = df_tmdb.shape[0]\n",
    "old_rows"
   ]
  },
  {
   "cell_type": "markdown",
   "id": "5b10459c",
   "metadata": {},
   "source": [
    "### Смена типов данных"
   ]
  },
  {
   "cell_type": "code",
   "execution_count": 12,
   "id": "73375ca7",
   "metadata": {},
   "outputs": [
    {
     "data": {
      "text/plain": [
       "id                               int64\n",
       "title                           object\n",
       "vote_average                   float64\n",
       "release_date            datetime64[ns]\n",
       "revenue                          int64\n",
       "budget                           int64\n",
       "original_language               object\n",
       "original_title                  object\n",
       "genres                          object\n",
       "production_countries            object\n",
       "dtype: object"
      ]
     },
     "execution_count": 12,
     "metadata": {},
     "output_type": "execute_result"
    }
   ],
   "source": [
    "df_tmdb.dtypes"
   ]
  },
  {
   "cell_type": "markdown",
   "id": "13c5492f",
   "metadata": {},
   "source": [
    "Типы данных корректны"
   ]
  },
  {
   "cell_type": "markdown",
   "id": "b49d4a1c",
   "metadata": {},
   "source": [
    "- Преобразуем содержимое строковых данных к нижнему регистру, чтобы избежать возможных дубликатов"
   ]
  },
  {
   "cell_type": "code",
   "execution_count": 13,
   "id": "6812e21d",
   "metadata": {},
   "outputs": [
    {
     "data": {
      "text/html": [
       "<div>\n",
       "<style scoped>\n",
       "    .dataframe tbody tr th:only-of-type {\n",
       "        vertical-align: middle;\n",
       "    }\n",
       "\n",
       "    .dataframe tbody tr th {\n",
       "        vertical-align: top;\n",
       "    }\n",
       "\n",
       "    .dataframe thead th {\n",
       "        text-align: right;\n",
       "    }\n",
       "</style>\n",
       "<table border=\"1\" class=\"dataframe\">\n",
       "  <thead>\n",
       "    <tr style=\"text-align: right;\">\n",
       "      <th></th>\n",
       "      <th>title</th>\n",
       "      <th>original_language</th>\n",
       "      <th>original_title</th>\n",
       "      <th>genres</th>\n",
       "      <th>production_countries</th>\n",
       "    </tr>\n",
       "  </thead>\n",
       "  <tbody>\n",
       "    <tr>\n",
       "      <th>0</th>\n",
       "      <td>inception</td>\n",
       "      <td>en</td>\n",
       "      <td>inception</td>\n",
       "      <td>action, science fiction, adventure</td>\n",
       "      <td>united kingdom, united states of america</td>\n",
       "    </tr>\n",
       "    <tr>\n",
       "      <th>1</th>\n",
       "      <td>interstellar</td>\n",
       "      <td>en</td>\n",
       "      <td>interstellar</td>\n",
       "      <td>adventure, drama, science fiction</td>\n",
       "      <td>united kingdom, united states of america</td>\n",
       "    </tr>\n",
       "    <tr>\n",
       "      <th>2</th>\n",
       "      <td>the dark knight</td>\n",
       "      <td>en</td>\n",
       "      <td>the dark knight</td>\n",
       "      <td>drama, action, crime, thriller</td>\n",
       "      <td>united kingdom, united states of america</td>\n",
       "    </tr>\n",
       "  </tbody>\n",
       "</table>\n",
       "</div>"
      ],
      "text/plain": [
       "             title original_language   original_title  \\\n",
       "0        inception                en        inception   \n",
       "1     interstellar                en     interstellar   \n",
       "2  the dark knight                en  the dark knight   \n",
       "\n",
       "                               genres  \\\n",
       "0  action, science fiction, adventure   \n",
       "1   adventure, drama, science fiction   \n",
       "2      drama, action, crime, thriller   \n",
       "\n",
       "                       production_countries  \n",
       "0  united kingdom, united states of america  \n",
       "1  united kingdom, united states of america  \n",
       "2  united kingdom, united states of america  "
      ]
     },
     "execution_count": 13,
     "metadata": {},
     "output_type": "execute_result"
    }
   ],
   "source": [
    "str_column = df_tmdb.select_dtypes(include='object').columns\n",
    "for col in str_column:\n",
    "    df_tmdb[col] = df_tmdb[col].str.lower().str.strip()\n",
    "df_tmdb[str_column].head(3)"
   ]
  },
  {
   "cell_type": "markdown",
   "id": "aa9816b9",
   "metadata": {},
   "source": [
    "### Объединяем датафреймы"
   ]
  },
  {
   "cell_type": "markdown",
   "id": "f1dd10ef",
   "metadata": {},
   "source": [
    "- Объединяем df_tmdb и df_cpi по дате начала месяца. Для этого добавим новый столбец в df_tmdb, который приведет release_date к началу месяца"
   ]
  },
  {
   "cell_type": "code",
   "execution_count": 14,
   "id": "49e7b884",
   "metadata": {},
   "outputs": [
    {
     "data": {
      "text/plain": [
       "0   2010-07-01\n",
       "1   2014-11-01\n",
       "Name: release_month, dtype: datetime64[ns]"
      ]
     },
     "execution_count": 14,
     "metadata": {},
     "output_type": "execute_result"
    }
   ],
   "source": [
    "df_tmdb['release_month'] = (df_tmdb['release_date']\n",
    "                            .dt.to_period('M')\n",
    "                            .dt.to_timestamp()\n",
    "                            )\n",
    "df_tmdb['release_month'].head(2)"
   ]
  },
  {
   "cell_type": "code",
   "execution_count": 15,
   "id": "2d5f5ab0",
   "metadata": {},
   "outputs": [
    {
     "name": "stdout",
     "output_type": "stream",
     "text": [
      "<class 'pandas.core.frame.DataFrame'>\n",
      "RangeIndex: 997723 entries, 0 to 997722\n",
      "Data columns (total 13 columns):\n",
      " #   Column                Non-Null Count   Dtype         \n",
      "---  ------                --------------   -----         \n",
      " 0   id                    997723 non-null  int64         \n",
      " 1   title                 997719 non-null  object        \n",
      " 2   vote_average          997723 non-null  float64       \n",
      " 3   release_date          997723 non-null  datetime64[ns]\n",
      " 4   revenue               997723 non-null  int64         \n",
      " 5   budget                997723 non-null  int64         \n",
      " 6   original_language     997723 non-null  object        \n",
      " 7   original_title        997719 non-null  object        \n",
      " 8   genres                667560 non-null  object        \n",
      " 9   production_countries  632100 non-null  object        \n",
      " 10  release_month         997723 non-null  datetime64[ns]\n",
      " 11  cpi_date              997723 non-null  datetime64[ns]\n",
      " 12  cpi                   997723 non-null  float64       \n",
      "dtypes: datetime64[ns](3), float64(2), int64(3), object(5)\n",
      "memory usage: 99.0+ MB\n"
     ]
    }
   ],
   "source": [
    "df_merged = df_tmdb.merge(df_cpi,\n",
    "                          left_on='release_month',\n",
    "                          right_on='cpi_date',\n",
    "                          how='inner')\n",
    "df_merged.info()"
   ]
  },
  {
   "cell_type": "markdown",
   "id": "b9487485",
   "metadata": {},
   "source": [
    "### Проверка на дубликаты"
   ]
  },
  {
   "cell_type": "code",
   "execution_count": 16,
   "id": "c465c11f",
   "metadata": {},
   "outputs": [
    {
     "name": "stdout",
     "output_type": "stream",
     "text": [
      "Найдено 169 полных дубликатов строк\n"
     ]
    }
   ],
   "source": [
    "print(f'Найдено {df_merged.duplicated().sum()} полных дубликатов строк')"
   ]
  },
  {
   "cell_type": "markdown",
   "id": "fdbd17dd",
   "metadata": {},
   "source": [
    "- удаляем их"
   ]
  },
  {
   "cell_type": "code",
   "execution_count": 17,
   "id": "e77dfee4",
   "metadata": {},
   "outputs": [
    {
     "data": {
      "text/plain": [
       "np.int64(0)"
      ]
     },
     "execution_count": 17,
     "metadata": {},
     "output_type": "execute_result"
    }
   ],
   "source": [
    "df_merged = df_merged.drop_duplicates().reset_index(drop=True)\n",
    "df_merged.duplicated().sum()"
   ]
  },
  {
   "cell_type": "markdown",
   "id": "d406a02f",
   "metadata": {},
   "source": [
    "- Проверим, есть ли дубликаты по столбцам с информацией об оригинальном названии фильма и датой релиза"
   ]
  },
  {
   "cell_type": "code",
   "execution_count": 18,
   "id": "905cf990",
   "metadata": {},
   "outputs": [
    {
     "name": "stdout",
     "output_type": "stream",
     "text": [
      "Найдено 1965 дубликатов\n"
     ]
    }
   ],
   "source": [
    "print(f'''Найдено {df_merged[['original_title', 'release_date']].duplicated().sum()} дубликатов''')"
   ]
  },
  {
   "cell_type": "markdown",
   "id": "b447503e",
   "metadata": {},
   "source": [
    "- Фильмы с одинаковым оригинальным названием и одинаковой датой релиза могут указывать на дубликаты - удаляем их"
   ]
  },
  {
   "cell_type": "code",
   "execution_count": 19,
   "id": "dc752af1",
   "metadata": {},
   "outputs": [],
   "source": [
    "df_merged = df_merged.drop_duplicates(subset=['original_title', 'release_date'])\n",
    "df_merged = df_merged.reset_index(drop=True)"
   ]
  },
  {
   "cell_type": "markdown",
   "id": "e8dbfa7a",
   "metadata": {},
   "source": [
    "Одинаковые названия фильмов действительно могут встречаться - главное, чтобы даты релизов не совпадали"
   ]
  },
  {
   "cell_type": "markdown",
   "id": "d3a1a71b",
   "metadata": {},
   "source": [
    "- Теперь проверим дубликаты, связанные с англоязычным названием и датой релиза"
   ]
  },
  {
   "cell_type": "code",
   "execution_count": 20,
   "id": "9d74c06e",
   "metadata": {},
   "outputs": [
    {
     "name": "stdout",
     "output_type": "stream",
     "text": [
      "Найдено 343 дубликатов\n"
     ]
    }
   ],
   "source": [
    "print(f'''Найдено {df_merged[['title', 'release_date']].duplicated().sum()} дубликатов''')"
   ]
  },
  {
   "cell_type": "code",
   "execution_count": 21,
   "id": "2d56c1c4",
   "metadata": {},
   "outputs": [
    {
     "data": {
      "text/plain": [
       "title                       release_date\n",
       "fatal love                  1993-01-01      3\n",
       "chosen 2                    2020-01-13      3\n",
       "resurrection of love        1973-01-01      2\n",
       "run!                        2013-10-23      2\n",
       "rolling                     2016-09-16      2\n",
       "                                           ..\n",
       "god's gift                  1998-01-01      2\n",
       "girls                       2014-07-30      2\n",
       "ghost story of kam pin mui  1991-06-22      2\n",
       "ghost                       2023-10-19      2\n",
       "zhanxiou village            2007-05-20      2\n",
       "Name: count, Length: 341, dtype: int64"
      ]
     },
     "execution_count": 21,
     "metadata": {},
     "output_type": "execute_result"
    }
   ],
   "source": [
    "df_merged[df_merged.duplicated(subset=['title', 'release_date'], keep=False)][['title', 'release_date']].value_counts()"
   ]
  },
  {
   "cell_type": "markdown",
   "id": "d07a6f4e",
   "metadata": {},
   "source": [
    "Проверим фильм  `chosen 2`, чтобы понять, стоит ли нам считать совпадение по дате релиза и англоязычному названию - дубликатами"
   ]
  },
  {
   "cell_type": "code",
   "execution_count": 22,
   "id": "6d120713",
   "metadata": {},
   "outputs": [
    {
     "data": {
      "text/html": [
       "<div>\n",
       "<style scoped>\n",
       "    .dataframe tbody tr th:only-of-type {\n",
       "        vertical-align: middle;\n",
       "    }\n",
       "\n",
       "    .dataframe tbody tr th {\n",
       "        vertical-align: top;\n",
       "    }\n",
       "\n",
       "    .dataframe thead th {\n",
       "        text-align: right;\n",
       "    }\n",
       "</style>\n",
       "<table border=\"1\" class=\"dataframe\">\n",
       "  <thead>\n",
       "    <tr style=\"text-align: right;\">\n",
       "      <th></th>\n",
       "      <th>id</th>\n",
       "      <th>title</th>\n",
       "      <th>vote_average</th>\n",
       "      <th>release_date</th>\n",
       "      <th>revenue</th>\n",
       "      <th>budget</th>\n",
       "      <th>original_language</th>\n",
       "      <th>original_title</th>\n",
       "      <th>genres</th>\n",
       "      <th>production_countries</th>\n",
       "      <th>release_month</th>\n",
       "      <th>cpi_date</th>\n",
       "      <th>cpi</th>\n",
       "    </tr>\n",
       "  </thead>\n",
       "  <tbody>\n",
       "    <tr>\n",
       "      <th>457325</th>\n",
       "      <td>1160180</td>\n",
       "      <td>chosen 2</td>\n",
       "      <td>0.00</td>\n",
       "      <td>2020-01-13</td>\n",
       "      <td>0</td>\n",
       "      <td>0</td>\n",
       "      <td>en</td>\n",
       "      <td>杀无赦2：ⅰ救赎</td>\n",
       "      <td>NaN</td>\n",
       "      <td>NaN</td>\n",
       "      <td>2020-01-01</td>\n",
       "      <td>2020-01-01</td>\n",
       "      <td>257.97</td>\n",
       "    </tr>\n",
       "    <tr>\n",
       "      <th>457328</th>\n",
       "      <td>1160183</td>\n",
       "      <td>chosen 2</td>\n",
       "      <td>0.00</td>\n",
       "      <td>2020-01-13</td>\n",
       "      <td>0</td>\n",
       "      <td>0</td>\n",
       "      <td>en</td>\n",
       "      <td>杀无赦2：ⅱ同盟</td>\n",
       "      <td>NaN</td>\n",
       "      <td>NaN</td>\n",
       "      <td>2020-01-01</td>\n",
       "      <td>2020-01-01</td>\n",
       "      <td>257.97</td>\n",
       "    </tr>\n",
       "    <tr>\n",
       "      <th>457329</th>\n",
       "      <td>1160184</td>\n",
       "      <td>chosen 2</td>\n",
       "      <td>0.00</td>\n",
       "      <td>2020-01-13</td>\n",
       "      <td>0</td>\n",
       "      <td>0</td>\n",
       "      <td>en</td>\n",
       "      <td>杀无赦2：ⅲ重生</td>\n",
       "      <td>NaN</td>\n",
       "      <td>NaN</td>\n",
       "      <td>2020-01-01</td>\n",
       "      <td>2020-01-01</td>\n",
       "      <td>257.97</td>\n",
       "    </tr>\n",
       "  </tbody>\n",
       "</table>\n",
       "</div>"
      ],
      "text/plain": [
       "             id     title  vote_average release_date  revenue  budget  \\\n",
       "457325  1160180  chosen 2          0.00   2020-01-13        0       0   \n",
       "457328  1160183  chosen 2          0.00   2020-01-13        0       0   \n",
       "457329  1160184  chosen 2          0.00   2020-01-13        0       0   \n",
       "\n",
       "       original_language original_title genres production_countries  \\\n",
       "457325                en       杀无赦2：ⅰ救赎    NaN                  NaN   \n",
       "457328                en       杀无赦2：ⅱ同盟    NaN                  NaN   \n",
       "457329                en       杀无赦2：ⅲ重生    NaN                  NaN   \n",
       "\n",
       "       release_month   cpi_date    cpi  \n",
       "457325    2020-01-01 2020-01-01 257.97  \n",
       "457328    2020-01-01 2020-01-01 257.97  \n",
       "457329    2020-01-01 2020-01-01 257.97  "
      ]
     },
     "execution_count": 22,
     "metadata": {},
     "output_type": "execute_result"
    }
   ],
   "source": [
    "df_merged[df_merged['title'] == 'chosen 2']"
   ]
  },
  {
   "cell_type": "code",
   "execution_count": 23,
   "id": "7ee7b1fa",
   "metadata": {},
   "outputs": [
    {
     "data": {
      "text/html": [
       "<div>\n",
       "<style scoped>\n",
       "    .dataframe tbody tr th:only-of-type {\n",
       "        vertical-align: middle;\n",
       "    }\n",
       "\n",
       "    .dataframe tbody tr th {\n",
       "        vertical-align: top;\n",
       "    }\n",
       "\n",
       "    .dataframe thead th {\n",
       "        text-align: right;\n",
       "    }\n",
       "</style>\n",
       "<table border=\"1\" class=\"dataframe\">\n",
       "  <thead>\n",
       "    <tr style=\"text-align: right;\">\n",
       "      <th></th>\n",
       "      <th>id</th>\n",
       "      <th>title</th>\n",
       "      <th>vote_average</th>\n",
       "      <th>release_date</th>\n",
       "      <th>revenue</th>\n",
       "      <th>budget</th>\n",
       "      <th>original_language</th>\n",
       "      <th>original_title</th>\n",
       "      <th>genres</th>\n",
       "      <th>production_countries</th>\n",
       "      <th>release_month</th>\n",
       "      <th>cpi_date</th>\n",
       "      <th>cpi</th>\n",
       "    </tr>\n",
       "  </thead>\n",
       "  <tbody>\n",
       "    <tr>\n",
       "      <th>513140</th>\n",
       "      <td>1405386</td>\n",
       "      <td>zhanxiou village</td>\n",
       "      <td>0.00</td>\n",
       "      <td>2007-05-20</td>\n",
       "      <td>0</td>\n",
       "      <td>0</td>\n",
       "      <td>zh</td>\n",
       "      <td>朱辛庄</td>\n",
       "      <td>NaN</td>\n",
       "      <td>china</td>\n",
       "      <td>2007-05-01</td>\n",
       "      <td>2007-05-01</td>\n",
       "      <td>207.95</td>\n",
       "    </tr>\n",
       "    <tr>\n",
       "      <th>544936</th>\n",
       "      <td>1469333</td>\n",
       "      <td>zhanxiou village</td>\n",
       "      <td>0.00</td>\n",
       "      <td>2007-05-20</td>\n",
       "      <td>0</td>\n",
       "      <td>0</td>\n",
       "      <td>en</td>\n",
       "      <td>zhanxiou village</td>\n",
       "      <td>NaN</td>\n",
       "      <td>NaN</td>\n",
       "      <td>2007-05-01</td>\n",
       "      <td>2007-05-01</td>\n",
       "      <td>207.95</td>\n",
       "    </tr>\n",
       "    <tr>\n",
       "      <th>566545</th>\n",
       "      <td>1264836</td>\n",
       "      <td>zhanxiou village</td>\n",
       "      <td>0.00</td>\n",
       "      <td>2007-05-15</td>\n",
       "      <td>0</td>\n",
       "      <td>0</td>\n",
       "      <td>fr</td>\n",
       "      <td>zhanxiou village</td>\n",
       "      <td>NaN</td>\n",
       "      <td>NaN</td>\n",
       "      <td>2007-05-01</td>\n",
       "      <td>2007-05-01</td>\n",
       "      <td>207.95</td>\n",
       "    </tr>\n",
       "  </tbody>\n",
       "</table>\n",
       "</div>"
      ],
      "text/plain": [
       "             id             title  vote_average release_date  revenue  budget  \\\n",
       "513140  1405386  zhanxiou village          0.00   2007-05-20        0       0   \n",
       "544936  1469333  zhanxiou village          0.00   2007-05-20        0       0   \n",
       "566545  1264836  zhanxiou village          0.00   2007-05-15        0       0   \n",
       "\n",
       "       original_language    original_title genres production_countries  \\\n",
       "513140                zh               朱辛庄    NaN                china   \n",
       "544936                en  zhanxiou village    NaN                  NaN   \n",
       "566545                fr  zhanxiou village    NaN                  NaN   \n",
       "\n",
       "       release_month   cpi_date    cpi  \n",
       "513140    2007-05-01 2007-05-01 207.95  \n",
       "544936    2007-05-01 2007-05-01 207.95  \n",
       "566545    2007-05-01 2007-05-01 207.95  "
      ]
     },
     "execution_count": 23,
     "metadata": {},
     "output_type": "execute_result"
    }
   ],
   "source": [
    "df_merged[df_merged['title'] == 'zhanxiou village']"
   ]
  },
  {
   "cell_type": "markdown",
   "id": "01050147",
   "metadata": {},
   "source": [
    "- Оригинальные названия разные, судя по всему, это могут быть разные части одного проекта, релизнутые в один день. \n",
    "\n",
    "Совпадения по дате релиза и англоязычному названию НЕ указывают на дубликаты"
   ]
  },
  {
   "cell_type": "code",
   "execution_count": 24,
   "id": "0fa150d1",
   "metadata": {},
   "outputs": [
    {
     "name": "stdout",
     "output_type": "stream",
     "text": [
      "Было удалено 248300 строк.\n",
      "Мы лишились 19.96% данных\n"
     ]
    }
   ],
   "source": [
    "new_rows = df_merged.shape[0]\n",
    "print(f'''Было удалено {old_rows - new_rows} строк.\n",
    "Мы лишились {round((old_rows - new_rows)\n",
    "            / old_rows * 100, 2)}% данных''')"
   ]
  },
  {
   "cell_type": "markdown",
   "id": "b52bf97c",
   "metadata": {},
   "source": [
    "### Анализ пропусков"
   ]
  },
  {
   "cell_type": "code",
   "execution_count": 25,
   "id": "e43d720a",
   "metadata": {},
   "outputs": [
    {
     "data": {
      "text/plain": [
       "production_countries    364365\n",
       "genres                  329348\n",
       "title                        4\n",
       "original_title               4\n",
       "id                           0\n",
       "vote_average                 0\n",
       "release_date                 0\n",
       "revenue                      0\n",
       "budget                       0\n",
       "original_language            0\n",
       "release_month                0\n",
       "cpi_date                     0\n",
       "cpi                          0\n",
       "dtype: int64"
      ]
     },
     "execution_count": 25,
     "metadata": {},
     "output_type": "execute_result"
    }
   ],
   "source": [
    "df_merged.isnull().sum().sort_values(ascending=False)"
   ]
  },
  {
   "cell_type": "code",
   "execution_count": 26,
   "id": "11e24a91",
   "metadata": {},
   "outputs": [
    {
     "data": {
      "text/plain": [
       "production_countries   36.60\n",
       "genres                 33.08\n",
       "title                   0.00\n",
       "original_title          0.00\n",
       "id                      0.00\n",
       "vote_average            0.00\n",
       "release_date            0.00\n",
       "revenue                 0.00\n",
       "budget                  0.00\n",
       "original_language       0.00\n",
       "release_month           0.00\n",
       "cpi_date                0.00\n",
       "cpi                     0.00\n",
       "dtype: float64"
      ]
     },
     "execution_count": 26,
     "metadata": {},
     "output_type": "execute_result"
    }
   ],
   "source": [
    "(df_merged.isnull().mean() * 100).sort_values(ascending=False).round(2)"
   ]
  },
  {
   "cell_type": "markdown",
   "id": "dea2d340",
   "metadata": {},
   "source": [
    "У нас отсутствует свыше 40% информации по странам производства и жанрам. Также есть пропуски в 17% информации о дате релиза, 18% пропусков по информации о cpi.\n"
   ]
  },
  {
   "cell_type": "markdown",
   "id": "b4f4f655",
   "metadata": {},
   "source": [
    "- Данные CPI у нас есть с 1913 года, поэтому исключим фильмы, для которых не определено CPI"
   ]
  },
  {
   "cell_type": "code",
   "execution_count": 27,
   "id": "66c2bfb0",
   "metadata": {},
   "outputs": [
    {
     "name": "stdout",
     "output_type": "stream",
     "text": [
      "<class 'pandas.core.frame.DataFrame'>\n",
      "RangeIndex: 995589 entries, 0 to 995588\n",
      "Data columns (total 13 columns):\n",
      " #   Column                Non-Null Count   Dtype         \n",
      "---  ------                --------------   -----         \n",
      " 0   id                    995589 non-null  int64         \n",
      " 1   title                 995585 non-null  object        \n",
      " 2   vote_average          995589 non-null  float64       \n",
      " 3   release_date          995589 non-null  datetime64[ns]\n",
      " 4   revenue               995589 non-null  int64         \n",
      " 5   budget                995589 non-null  int64         \n",
      " 6   original_language     995589 non-null  object        \n",
      " 7   original_title        995585 non-null  object        \n",
      " 8   genres                666241 non-null  object        \n",
      " 9   production_countries  631224 non-null  object        \n",
      " 10  release_month         995589 non-null  datetime64[ns]\n",
      " 11  cpi_date              995589 non-null  datetime64[ns]\n",
      " 12  cpi                   995589 non-null  float64       \n",
      "dtypes: datetime64[ns](3), float64(2), int64(3), object(5)\n",
      "memory usage: 98.7+ MB\n"
     ]
    }
   ],
   "source": [
    "df_merged = df_merged[df_merged['cpi'].notna()].reset_index(drop=True)\n",
    "df_merged.info()"
   ]
  },
  {
   "cell_type": "markdown",
   "id": "c55fb216",
   "metadata": {},
   "source": [
    "Кажется, что в столбце бюджета и дохода пропусков нет, однако там пропущенные значения могут обозначаться как 0"
   ]
  },
  {
   "cell_type": "code",
   "execution_count": 28,
   "id": "5ec29bc8",
   "metadata": {},
   "outputs": [
    {
     "data": {
      "text/plain": [
       "budget\n",
       "0          945549\n",
       "100          1574\n",
       "1000         1409\n",
       "10000        1314\n",
       "500          1217\n",
       "            ...  \n",
       "574000          1\n",
       "777900          1\n",
       "2504000         1\n",
       "32125           1\n",
       "140985          1\n",
       "Name: count, Length: 5337, dtype: int64"
      ]
     },
     "execution_count": 28,
     "metadata": {},
     "output_type": "execute_result"
    }
   ],
   "source": [
    "df_merged['budget'].value_counts()"
   ]
  },
  {
   "cell_type": "markdown",
   "id": "348a13df",
   "metadata": {},
   "source": [
    "### Анализ REVENUE"
   ]
  },
  {
   "cell_type": "code",
   "execution_count": 29,
   "id": "abbe27f4",
   "metadata": {},
   "outputs": [],
   "source": [
    "def millions(x, pos):\n",
    "    '''Функция используется с FuncFormat \n",
    "    для форматирования значения x в миллионах \n",
    "    с округлением до одного знака после запятой'''\n",
    "    return f'{x * 1e-6:.1f}'"
   ]
  },
  {
   "cell_type": "code",
   "execution_count": 30,
   "id": "3d840a40",
   "metadata": {},
   "outputs": [
    {
     "data": {
      "text/plain": [
       "revenue\n",
       "0           976148\n",
       "100            354\n",
       "1              319\n",
       "10             164\n",
       "1000           163\n",
       "             ...  \n",
       "53672080         1\n",
       "74918            1\n",
       "32704700         1\n",
       "26576000         1\n",
       "9960000          1\n",
       "Name: count, Length: 14118, dtype: int64"
      ]
     },
     "execution_count": 30,
     "metadata": {},
     "output_type": "execute_result"
    }
   ],
   "source": [
    "df_merged['revenue'].value_counts()"
   ]
  },
  {
   "cell_type": "code",
   "execution_count": 31,
   "id": "4ddda2b5",
   "metadata": {},
   "outputs": [
    {
     "data": {
      "image/png": "[encoded data removed]",
      "text/plain": [
       "<Figure size 640x480 with 1 Axes>"
      ]
     },
     "metadata": {},
     "output_type": "display_data"
    }
   ],
   "source": [
    "plt.hist(df_merged[df_merged['revenue'] > 0]['revenue'], \n",
    "         bins=100,\n",
    "         color='#be71ff',\n",
    "         edgecolor='black')\n",
    "\n",
    "plt.gca().xaxis.set_major_formatter(FuncFormatter(millions))\n",
    "plt.grid(axis='y')\n",
    "\n",
    "plt.title('Гистограмма распределения значений кассовых сборов')\n",
    "plt.xlabel('Значения revenue(млн)')\n",
    "plt.ylabel('Частота')\n",
    "\n",
    "plt.show()"
   ]
  },
  {
   "cell_type": "markdown",
   "id": "8ffd511e",
   "metadata": {},
   "source": [
    "Большая часть данных хранит в себе значение \"0\" в столбце кассовых сборов (доходов). "
   ]
  },
  {
   "cell_type": "code",
   "execution_count": 32,
   "id": "5b30b19d",
   "metadata": {},
   "outputs": [
    {
     "data": {
      "text/html": [
       "<div>\n",
       "<style scoped>\n",
       "    .dataframe tbody tr th:only-of-type {\n",
       "        vertical-align: middle;\n",
       "    }\n",
       "\n",
       "    .dataframe tbody tr th {\n",
       "        vertical-align: top;\n",
       "    }\n",
       "\n",
       "    .dataframe thead th {\n",
       "        text-align: right;\n",
       "    }\n",
       "</style>\n",
       "<table border=\"1\" class=\"dataframe\">\n",
       "  <thead>\n",
       "    <tr style=\"text-align: right;\">\n",
       "      <th></th>\n",
       "      <th>count</th>\n",
       "      <th>mean</th>\n",
       "      <th>std</th>\n",
       "      <th>min</th>\n",
       "      <th>25%</th>\n",
       "      <th>50%</th>\n",
       "      <th>75%</th>\n",
       "      <th>max</th>\n",
       "    </tr>\n",
       "  </thead>\n",
       "  <tbody>\n",
       "    <tr>\n",
       "      <th>revenue</th>\n",
       "      <td>995589.00</td>\n",
       "      <td>764187.97</td>\n",
       "      <td>18601909.74</td>\n",
       "      <td>-12.00</td>\n",
       "      <td>0.00</td>\n",
       "      <td>0.00</td>\n",
       "      <td>0.00</td>\n",
       "      <td>3000000000.00</td>\n",
       "    </tr>\n",
       "  </tbody>\n",
       "</table>\n",
       "</div>"
      ],
      "text/plain": [
       "            count      mean         std    min  25%  50%  75%           max\n",
       "revenue 995589.00 764187.97 18601909.74 -12.00 0.00 0.00 0.00 3000000000.00"
      ]
     },
     "execution_count": 32,
     "metadata": {},
     "output_type": "execute_result"
    }
   ],
   "source": [
    "df_merged['revenue'].describe().to_frame().T"
   ]
  },
  {
   "cell_type": "markdown",
   "id": "c7c32820",
   "metadata": {},
   "source": [
    "Высокое значение стандартного отклонения указывает на большой разброс данных - есть выбросы. Учитывая, что 75-й квантиль равен 0, можно сделать вывод - большинство данных не имеют информации о кассовых сборах  "
   ]
  },
  {
   "cell_type": "code",
   "execution_count": 33,
   "id": "d8a4a842",
   "metadata": {},
   "outputs": [
    {
     "name": "stdout",
     "output_type": "stream",
     "text": [
      "Ненулевых значений обнаружено - 19440\n"
     ]
    }
   ],
   "source": [
    "print(f'''Ненулевых значений обнаружено - {df_merged[df_merged['revenue'] > 0]['revenue'].count()}''')"
   ]
  },
  {
   "cell_type": "markdown",
   "id": "a82f9810",
   "metadata": {},
   "source": [
    "- Объявим переменную, которая будет хранить булевую маску со значениями, где кассовые сборы были больше 0"
   ]
  },
  {
   "cell_type": "code",
   "execution_count": 34,
   "id": "5f9654a4",
   "metadata": {},
   "outputs": [
    {
     "data": {
      "text/plain": [
       "0    True\n",
       "1    True\n",
       "2    True\n",
       "Name: revenue, dtype: bool"
      ]
     },
     "execution_count": 34,
     "metadata": {},
     "output_type": "execute_result"
    }
   ],
   "source": [
    "filter_not_zero = df_merged['revenue'] > 0\n",
    "filter_not_zero.head(3)"
   ]
  },
  {
   "cell_type": "markdown",
   "id": "a8871412",
   "metadata": {},
   "source": [
    "- Объявим переменные, которые будут хранить значения 30-го и 99-го квантиля"
   ]
  },
  {
   "cell_type": "code",
   "execution_count": 35,
   "id": "fb35475a",
   "metadata": {},
   "outputs": [
    {
     "name": "stdout",
     "output_type": "stream",
     "text": [
      "Значение 30-го процентиля = 164306.1\n"
     ]
    }
   ],
   "source": [
    "quantile_min = df_merged.loc[filter_not_zero, 'revenue'].quantile(0.3)\n",
    "print(f'''Значение 30-го процентиля = {quantile_min.round(2)}''')"
   ]
  },
  {
   "cell_type": "code",
   "execution_count": 36,
   "id": "20ac2aaa",
   "metadata": {},
   "outputs": [
    {
     "name": "stdout",
     "output_type": "stream",
     "text": [
      "Значение 99-го процентиля = 626177688.56\n"
     ]
    }
   ],
   "source": [
    "quantile_max = df_merged.loc[filter_not_zero, 'revenue'].quantile(0.99)\n",
    "print(f'''Значение 99-го процентиля = {quantile_max.round(2)}''')"
   ]
  },
  {
   "cell_type": "markdown",
   "id": "fb892748",
   "metadata": {},
   "source": [
    "Отфильтруем наш датасет по значениям от 30-го квантиля до 99-го, чтобы избавиться от аномальных значений "
   ]
  },
  {
   "cell_type": "code",
   "execution_count": 37,
   "id": "fb453c48",
   "metadata": {},
   "outputs": [
    {
     "data": {
      "text/html": [
       "<div>\n",
       "<style scoped>\n",
       "    .dataframe tbody tr th:only-of-type {\n",
       "        vertical-align: middle;\n",
       "    }\n",
       "\n",
       "    .dataframe tbody tr th {\n",
       "        vertical-align: top;\n",
       "    }\n",
       "\n",
       "    .dataframe thead th {\n",
       "        text-align: right;\n",
       "    }\n",
       "</style>\n",
       "<table border=\"1\" class=\"dataframe\">\n",
       "  <thead>\n",
       "    <tr style=\"text-align: right;\">\n",
       "      <th></th>\n",
       "      <th>id</th>\n",
       "      <th>title</th>\n",
       "      <th>vote_average</th>\n",
       "      <th>release_date</th>\n",
       "      <th>revenue</th>\n",
       "      <th>budget</th>\n",
       "      <th>original_language</th>\n",
       "      <th>original_title</th>\n",
       "      <th>genres</th>\n",
       "      <th>production_countries</th>\n",
       "      <th>release_month</th>\n",
       "      <th>cpi_date</th>\n",
       "      <th>cpi</th>\n",
       "    </tr>\n",
       "  </thead>\n",
       "  <tbody>\n",
       "    <tr>\n",
       "      <th>7</th>\n",
       "      <td>550</td>\n",
       "      <td>fight club</td>\n",
       "      <td>8.44</td>\n",
       "      <td>1999-10-15</td>\n",
       "      <td>100853753</td>\n",
       "      <td>63000000</td>\n",
       "      <td>en</td>\n",
       "      <td>fight club</td>\n",
       "      <td>drama</td>\n",
       "      <td>united states of america</td>\n",
       "      <td>1999-10-01</td>\n",
       "      <td>1999-10-01</td>\n",
       "      <td>168.20</td>\n",
       "    </tr>\n",
       "    <tr>\n",
       "      <th>9</th>\n",
       "      <td>680</td>\n",
       "      <td>pulp fiction</td>\n",
       "      <td>8.49</td>\n",
       "      <td>1994-09-10</td>\n",
       "      <td>213900000</td>\n",
       "      <td>8500000</td>\n",
       "      <td>en</td>\n",
       "      <td>pulp fiction</td>\n",
       "      <td>thriller, crime</td>\n",
       "      <td>united states of america</td>\n",
       "      <td>1994-09-01</td>\n",
       "      <td>1994-09-01</td>\n",
       "      <td>149.40</td>\n",
       "    </tr>\n",
       "    <tr>\n",
       "      <th>12</th>\n",
       "      <td>1726</td>\n",
       "      <td>iron man</td>\n",
       "      <td>7.64</td>\n",
       "      <td>2008-04-30</td>\n",
       "      <td>585174222</td>\n",
       "      <td>140000000</td>\n",
       "      <td>en</td>\n",
       "      <td>iron man</td>\n",
       "      <td>action, science fiction, adventure</td>\n",
       "      <td>united states of america</td>\n",
       "      <td>2008-04-01</td>\n",
       "      <td>2008-04-01</td>\n",
       "      <td>214.82</td>\n",
       "    </tr>\n",
       "  </tbody>\n",
       "</table>\n",
       "</div>"
      ],
      "text/plain": [
       "      id         title  vote_average release_date    revenue     budget  \\\n",
       "7    550    fight club          8.44   1999-10-15  100853753   63000000   \n",
       "9    680  pulp fiction          8.49   1994-09-10  213900000    8500000   \n",
       "12  1726      iron man          7.64   2008-04-30  585174222  140000000   \n",
       "\n",
       "   original_language original_title                              genres  \\\n",
       "7                 en     fight club                               drama   \n",
       "9                 en   pulp fiction                     thriller, crime   \n",
       "12                en       iron man  action, science fiction, adventure   \n",
       "\n",
       "        production_countries release_month   cpi_date    cpi  \n",
       "7   united states of america    1999-10-01 1999-10-01 168.20  \n",
       "9   united states of america    1994-09-01 1994-09-01 149.40  \n",
       "12  united states of america    2008-04-01 2008-04-01 214.82  "
      ]
     },
     "execution_count": 37,
     "metadata": {},
     "output_type": "execute_result"
    }
   ],
   "source": [
    "df_filtered = df_merged[(df_merged['revenue'] > quantile_min) & (df_merged['revenue'] < quantile_max)]\n",
    "df_filtered.head(3)"
   ]
  },
  {
   "cell_type": "code",
   "execution_count": 38,
   "id": "37ba0366",
   "metadata": {},
   "outputs": [
    {
     "data": {
      "image/png": "[encoded data removed]",
      "text/plain": [
       "<Figure size 1200x400 with 1 Axes>"
      ]
     },
     "metadata": {},
     "output_type": "display_data"
    }
   ],
   "source": [
    "plt.figure(figsize=(12, 4))\n",
    "plt.boxplot(df_filtered['revenue'],\n",
    "            vert=False,\n",
    "            patch_artist=True,\n",
    "            boxprops=dict(facecolor='#be71ff', color='black'),\n",
    "            medianprops=dict(color='green'))\n",
    "\n",
    "plt.gca().xaxis.set_major_formatter(FuncFormatter(millions))\n",
    "\n",
    "plt.title('Боксплот - кассовые сборы фильмов', fontsize=16)\n",
    "plt.xlabel('Значение revenue(кассовые сборы)', fontsize=13)\n",
    "\n",
    "plt.show()"
   ]
  },
  {
   "cell_type": "markdown",
   "id": "1bfaa64b",
   "metadata": {},
   "source": [
    "На боксплоте видно, что все аномальные значения находятся справа - их довольно много. \n",
    "Это бестселлеры, которые действительно получили огромные кассовые сборы"
   ]
  },
  {
   "cell_type": "code",
   "execution_count": 39,
   "id": "2acd4111",
   "metadata": {},
   "outputs": [
    {
     "data": {
      "image/png": "[encoded data removed]",
      "text/plain": [
       "<Figure size 640x480 with 1 Axes>"
      ]
     },
     "metadata": {},
     "output_type": "display_data"
    }
   ],
   "source": [
    "plt.hist(df_filtered['revenue'], \n",
    "         bins=100,\n",
    "         color='#be71ff',\n",
    "         edgecolor='black')\n",
    "\n",
    "plt.gca().xaxis.set_major_formatter(FuncFormatter(millions))\n",
    "plt.grid(axis='y')\n",
    "\n",
    "plt.title('Гистограмма распределения значений кассовых сборов')\n",
    "plt.xlabel('Сумма кассовых сборов(млн.)')\n",
    "plt.ylabel('Частота')\n",
    "\n",
    "plt.show()"
   ]
  },
  {
   "cell_type": "code",
   "execution_count": 40,
   "id": "ae79d4dd",
   "metadata": {},
   "outputs": [
    {
     "data": {
      "text/html": [
       "<div>\n",
       "<style scoped>\n",
       "    .dataframe tbody tr th:only-of-type {\n",
       "        vertical-align: middle;\n",
       "    }\n",
       "\n",
       "    .dataframe tbody tr th {\n",
       "        vertical-align: top;\n",
       "    }\n",
       "\n",
       "    .dataframe thead th {\n",
       "        text-align: right;\n",
       "    }\n",
       "</style>\n",
       "<table border=\"1\" class=\"dataframe\">\n",
       "  <thead>\n",
       "    <tr style=\"text-align: right;\">\n",
       "      <th></th>\n",
       "      <th>count</th>\n",
       "      <th>mean</th>\n",
       "      <th>std</th>\n",
       "      <th>min</th>\n",
       "      <th>25%</th>\n",
       "      <th>50%</th>\n",
       "      <th>75%</th>\n",
       "      <th>max</th>\n",
       "    </tr>\n",
       "  </thead>\n",
       "  <tbody>\n",
       "    <tr>\n",
       "      <th>revenue</th>\n",
       "      <td>13413.00</td>\n",
       "      <td>42304439.24</td>\n",
       "      <td>84606338.06</td>\n",
       "      <td>164313.00</td>\n",
       "      <td>1778391.00</td>\n",
       "      <td>8645411.00</td>\n",
       "      <td>38332994.00</td>\n",
       "      <td>626137675.00</td>\n",
       "    </tr>\n",
       "  </tbody>\n",
       "</table>\n",
       "</div>"
      ],
      "text/plain": [
       "           count        mean         std       min        25%        50%  \\\n",
       "revenue 13413.00 42304439.24 84606338.06 164313.00 1778391.00 8645411.00   \n",
       "\n",
       "                75%          max  \n",
       "revenue 38332994.00 626137675.00  "
      ]
     },
     "execution_count": 40,
     "metadata": {},
     "output_type": "execute_result"
    }
   ],
   "source": [
    "df_filtered['revenue'].describe().to_frame().T"
   ]
  },
  {
   "cell_type": "code",
   "execution_count": 41,
   "id": "5181d659",
   "metadata": {},
   "outputs": [
    {
     "name": "stdout",
     "output_type": "stream",
     "text": [
      "Было удалено 1230476 строк.\n",
      "Мы лишились 98.92% данных\n"
     ]
    }
   ],
   "source": [
    "filtered_rows = df_filtered.shape[0]\n",
    "print(f'''Было удалено {old_rows - filtered_rows} строк.\n",
    "Мы лишились {round((old_rows - filtered_rows)\n",
    "            / old_rows * 100, 2)}% данных''')"
   ]
  },
  {
   "cell_type": "markdown",
   "id": "56f5433a",
   "metadata": {},
   "source": [
    "### Анализ BUDGET"
   ]
  },
  {
   "cell_type": "code",
   "execution_count": 42,
   "id": "1a32b5cf",
   "metadata": {},
   "outputs": [
    {
     "name": "stdout",
     "output_type": "stream",
     "text": [
      "4386 количество фильмов не содержат информации о бюджете \n"
     ]
    }
   ],
   "source": [
    "print(f'''{df_filtered[df_filtered['budget'] == 0].shape[0]} количество фильмов не содержат информации о бюджете ''')"
   ]
  },
  {
   "cell_type": "code",
   "execution_count": 43,
   "id": "859b6a15",
   "metadata": {},
   "outputs": [
    {
     "name": "stdout",
     "output_type": "stream",
     "text": [
      "9027 количество фильмов содержат информацию о бюджете\n"
     ]
    }
   ],
   "source": [
    "print(f'''{df_filtered[df_filtered['budget'] > 0].shape[0]} количество фильмов содержат информацию о бюджете''')"
   ]
  },
  {
   "cell_type": "code",
   "execution_count": 44,
   "id": "42712419",
   "metadata": {},
   "outputs": [
    {
     "data": {
      "text/html": [
       "<div>\n",
       "<style scoped>\n",
       "    .dataframe tbody tr th:only-of-type {\n",
       "        vertical-align: middle;\n",
       "    }\n",
       "\n",
       "    .dataframe tbody tr th {\n",
       "        vertical-align: top;\n",
       "    }\n",
       "\n",
       "    .dataframe thead th {\n",
       "        text-align: right;\n",
       "    }\n",
       "</style>\n",
       "<table border=\"1\" class=\"dataframe\">\n",
       "  <thead>\n",
       "    <tr style=\"text-align: right;\">\n",
       "      <th></th>\n",
       "      <th>count</th>\n",
       "      <th>mean</th>\n",
       "      <th>std</th>\n",
       "      <th>min</th>\n",
       "      <th>25%</th>\n",
       "      <th>50%</th>\n",
       "      <th>75%</th>\n",
       "      <th>max</th>\n",
       "    </tr>\n",
       "  </thead>\n",
       "  <tbody>\n",
       "    <tr>\n",
       "      <th>budget</th>\n",
       "      <td>13413.00</td>\n",
       "      <td>15751662.34</td>\n",
       "      <td>30090363.97</td>\n",
       "      <td>0.00</td>\n",
       "      <td>0.00</td>\n",
       "      <td>3000000.00</td>\n",
       "      <td>18900000.00</td>\n",
       "      <td>645654654.00</td>\n",
       "    </tr>\n",
       "  </tbody>\n",
       "</table>\n",
       "</div>"
      ],
      "text/plain": [
       "          count        mean         std  min  25%        50%         75%  \\\n",
       "budget 13413.00 15751662.34 30090363.97 0.00 0.00 3000000.00 18900000.00   \n",
       "\n",
       "                max  \n",
       "budget 645654654.00  "
      ]
     },
     "execution_count": 44,
     "metadata": {},
     "output_type": "execute_result"
    }
   ],
   "source": [
    "df_filtered['budget'].describe().to_frame().T"
   ]
  },
  {
   "cell_type": "markdown",
   "id": "b8642ae5",
   "metadata": {},
   "source": [
    "Мы видим большое стандратное отклонение, которое указывает на выбросы. У 25% фильмов отсутсвует информация о бюджете"
   ]
  },
  {
   "cell_type": "code",
   "execution_count": 45,
   "id": "eb23a6b9",
   "metadata": {},
   "outputs": [
    {
     "data": {
      "image/png": "[encoded data removed]",
      "text/plain": [
       "<Figure size 640x480 with 1 Axes>"
      ]
     },
     "metadata": {},
     "output_type": "display_data"
    }
   ],
   "source": [
    "plt.hist(df_filtered['budget'],\n",
    "         bins=100,\n",
    "         color='#be71ff',\n",
    "         edgecolor='black')\n",
    "\n",
    "plt.gca().xaxis.set_major_formatter(FuncFormatter(millions))\n",
    "plt.grid(axis='y')\n",
    "\n",
    "plt.title('Гистограмма распределения суммы бюджета')\n",
    "plt.xlabel('Сумма бюджета(млн)')\n",
    "plt.ylabel('Частота')\n",
    "\n",
    "\n",
    "plt.show()"
   ]
  },
  {
   "cell_type": "markdown",
   "id": "468c09b2",
   "metadata": {},
   "source": [
    "- Распределение сильно смещено вправо: встречаются редкие, но очень крупные бюджеты\n",
    "- Около 25% фильмов имеют нулевой бюджет, это значит, что данные либо отсутствуют - это типичная ситуация для фильмов, финансируемых: государственными субсидиями, международными фондами, кинокомиссиями.\n",
    "\n",
    "По этой причине нулевые значения мы оставляем "
   ]
  },
  {
   "cell_type": "markdown",
   "id": "66b82bc5",
   "metadata": {},
   "source": [
    "### Анализ PRODUCTION_COUNTRIES"
   ]
  },
  {
   "cell_type": "code",
   "execution_count": 46,
   "id": "81810f8b",
   "metadata": {},
   "outputs": [
    {
     "data": {
      "text/plain": [
       "production_countries\n",
       "united states of america                                                         5863\n",
       "india                                                                             703\n",
       "united kingdom, united states of america                                          419\n",
       "japan                                                                             412\n",
       "united kingdom                                                                    330\n",
       "                                                                                 ... \n",
       "france, united kingdom, italy                                                       1\n",
       "australia, china, france, hong kong, united kingdom, united states of america       1\n",
       "denmark, france, germany, japan, united kingdom, united states of america           1\n",
       "france, germany, india, united states of america                                    1\n",
       "russia, united states of america, japan                                             1\n",
       "Name: count, Length: 1133, dtype: int64"
      ]
     },
     "execution_count": 46,
     "metadata": {},
     "output_type": "execute_result"
    }
   ],
   "source": [
    "df_filtered['production_countries'].value_counts()"
   ]
  },
  {
   "cell_type": "code",
   "execution_count": 47,
   "id": "91bccb67",
   "metadata": {},
   "outputs": [
    {
     "data": {
      "text/html": [
       "<div>\n",
       "<style scoped>\n",
       "    .dataframe tbody tr th:only-of-type {\n",
       "        vertical-align: middle;\n",
       "    }\n",
       "\n",
       "    .dataframe tbody tr th {\n",
       "        vertical-align: top;\n",
       "    }\n",
       "\n",
       "    .dataframe thead th {\n",
       "        text-align: right;\n",
       "    }\n",
       "</style>\n",
       "<table border=\"1\" class=\"dataframe\">\n",
       "  <thead>\n",
       "    <tr style=\"text-align: right;\">\n",
       "      <th></th>\n",
       "      <th>id</th>\n",
       "      <th>title</th>\n",
       "      <th>vote_average</th>\n",
       "      <th>release_date</th>\n",
       "      <th>revenue</th>\n",
       "      <th>budget</th>\n",
       "      <th>original_language</th>\n",
       "      <th>original_title</th>\n",
       "      <th>genres</th>\n",
       "      <th>production_countries</th>\n",
       "      <th>release_month</th>\n",
       "      <th>cpi_date</th>\n",
       "      <th>cpi</th>\n",
       "    </tr>\n",
       "  </thead>\n",
       "  <tbody>\n",
       "    <tr>\n",
       "      <th>7</th>\n",
       "      <td>550</td>\n",
       "      <td>fight club</td>\n",
       "      <td>8.44</td>\n",
       "      <td>1999-10-15</td>\n",
       "      <td>100853753</td>\n",
       "      <td>63000000</td>\n",
       "      <td>en</td>\n",
       "      <td>fight club</td>\n",
       "      <td>drama</td>\n",
       "      <td>united states of america</td>\n",
       "      <td>1999-10-01</td>\n",
       "      <td>1999-10-01</td>\n",
       "      <td>168.20</td>\n",
       "    </tr>\n",
       "    <tr>\n",
       "      <th>9</th>\n",
       "      <td>680</td>\n",
       "      <td>pulp fiction</td>\n",
       "      <td>8.49</td>\n",
       "      <td>1994-09-10</td>\n",
       "      <td>213900000</td>\n",
       "      <td>8500000</td>\n",
       "      <td>en</td>\n",
       "      <td>pulp fiction</td>\n",
       "      <td>thriller, crime</td>\n",
       "      <td>united states of america</td>\n",
       "      <td>1994-09-01</td>\n",
       "      <td>1994-09-01</td>\n",
       "      <td>149.40</td>\n",
       "    </tr>\n",
       "    <tr>\n",
       "      <th>12</th>\n",
       "      <td>1726</td>\n",
       "      <td>iron man</td>\n",
       "      <td>7.64</td>\n",
       "      <td>2008-04-30</td>\n",
       "      <td>585174222</td>\n",
       "      <td>140000000</td>\n",
       "      <td>en</td>\n",
       "      <td>iron man</td>\n",
       "      <td>action, science fiction, adventure</td>\n",
       "      <td>united states of america</td>\n",
       "      <td>2008-04-01</td>\n",
       "      <td>2008-04-01</td>\n",
       "      <td>214.82</td>\n",
       "    </tr>\n",
       "  </tbody>\n",
       "</table>\n",
       "</div>"
      ],
      "text/plain": [
       "      id         title  vote_average release_date    revenue     budget  \\\n",
       "7    550    fight club          8.44   1999-10-15  100853753   63000000   \n",
       "9    680  pulp fiction          8.49   1994-09-10  213900000    8500000   \n",
       "12  1726      iron man          7.64   2008-04-30  585174222  140000000   \n",
       "\n",
       "   original_language original_title                              genres  \\\n",
       "7                 en     fight club                               drama   \n",
       "9                 en   pulp fiction                     thriller, crime   \n",
       "12                en       iron man  action, science fiction, adventure   \n",
       "\n",
       "        production_countries release_month   cpi_date    cpi  \n",
       "7   united states of america    1999-10-01 1999-10-01 168.20  \n",
       "9   united states of america    1994-09-01 1994-09-01 149.40  \n",
       "12  united states of america    2008-04-01 2008-04-01 214.82  "
      ]
     },
     "execution_count": 47,
     "metadata": {},
     "output_type": "execute_result"
    }
   ],
   "source": [
    "df_filtered.head(3)"
   ]
  },
  {
   "cell_type": "markdown",
   "id": "ef99881b",
   "metadata": {},
   "source": [
    "### Анализ VOTE_AVERTAGE"
   ]
  },
  {
   "cell_type": "code",
   "execution_count": 48,
   "id": "661b95f2",
   "metadata": {},
   "outputs": [
    {
     "data": {
      "text/plain": [
       "vote_average\n",
       "0.00    388\n",
       "6.00    224\n",
       "7.00    150\n",
       "6.50    139\n",
       "6.20    129\n",
       "       ... \n",
       "7.80      1\n",
       "5.52      1\n",
       "8.05      1\n",
       "5.09      1\n",
       "8.44      1\n",
       "Name: count, Length: 3269, dtype: int64"
      ]
     },
     "execution_count": 48,
     "metadata": {},
     "output_type": "execute_result"
    }
   ],
   "source": [
    "df_filtered['vote_average'].value_counts()"
   ]
  },
  {
   "cell_type": "markdown",
   "id": "75c3f1ad",
   "metadata": {},
   "source": [
    "У нас действительно могут встречаться фильмы без оценок пользователей, так что тут значение 0 не критично"
   ]
  },
  {
   "cell_type": "code",
   "execution_count": 49,
   "id": "18a892c3",
   "metadata": {},
   "outputs": [
    {
     "data": {
      "text/html": [
       "<div>\n",
       "<style scoped>\n",
       "    .dataframe tbody tr th:only-of-type {\n",
       "        vertical-align: middle;\n",
       "    }\n",
       "\n",
       "    .dataframe tbody tr th {\n",
       "        vertical-align: top;\n",
       "    }\n",
       "\n",
       "    .dataframe thead th {\n",
       "        text-align: right;\n",
       "    }\n",
       "</style>\n",
       "<table border=\"1\" class=\"dataframe\">\n",
       "  <thead>\n",
       "    <tr style=\"text-align: right;\">\n",
       "      <th></th>\n",
       "      <th>count</th>\n",
       "      <th>mean</th>\n",
       "      <th>std</th>\n",
       "      <th>min</th>\n",
       "      <th>25%</th>\n",
       "      <th>50%</th>\n",
       "      <th>75%</th>\n",
       "      <th>max</th>\n",
       "    </tr>\n",
       "  </thead>\n",
       "  <tbody>\n",
       "    <tr>\n",
       "      <th>vote_average</th>\n",
       "      <td>13413.00</td>\n",
       "      <td>6.18</td>\n",
       "      <td>1.48</td>\n",
       "      <td>0.00</td>\n",
       "      <td>5.74</td>\n",
       "      <td>6.39</td>\n",
       "      <td>7.00</td>\n",
       "      <td>10.00</td>\n",
       "    </tr>\n",
       "  </tbody>\n",
       "</table>\n",
       "</div>"
      ],
      "text/plain": [
       "                count  mean  std  min  25%  50%  75%   max\n",
       "vote_average 13413.00  6.18 1.48 0.00 5.74 6.39 7.00 10.00"
      ]
     },
     "execution_count": 49,
     "metadata": {},
     "output_type": "execute_result"
    }
   ],
   "source": [
    "df_filtered['vote_average'].describe().to_frame().T"
   ]
  },
  {
   "cell_type": "markdown",
   "id": "643932ea",
   "metadata": {},
   "source": [
    "Стандартное отклонение не критичное, а значит вариативность умеренная"
   ]
  },
  {
   "cell_type": "code",
   "execution_count": 50,
   "id": "745063e5",
   "metadata": {},
   "outputs": [
    {
     "data": {
      "image/png": "[encoded data removed]",
      "text/plain": [
       "<Figure size 640x480 with 1 Axes>"
      ]
     },
     "metadata": {},
     "output_type": "display_data"
    }
   ],
   "source": [
    "plt.hist(df_filtered['vote_average'], \n",
    "         bins=100,\n",
    "         color='#be71ff',\n",
    "         edgecolor='black')\n",
    "\n",
    "plt.grid(axis='y')\n",
    "\n",
    "plt.title('Гистограмма распределения пользовательских оценок')\n",
    "plt.xlabel('Оценка')\n",
    "plt.ylabel('Частота')\n",
    "\n",
    "plt.show()"
   ]
  },
  {
   "cell_type": "markdown",
   "id": "525d952e",
   "metadata": {},
   "source": [
    "- Распределение с левосторонней ассиметрией\n",
    "- Вытянутый левый хвост обусловлен наличием свыше 900 нулевых оценок"
   ]
  },
  {
   "cell_type": "code",
   "execution_count": 51,
   "id": "e76acfb4",
   "metadata": {},
   "outputs": [
    {
     "data": {
      "image/png": "[encoded data removed]",
      "text/plain": [
       "<Figure size 1200x400 with 1 Axes>"
      ]
     },
     "metadata": {},
     "output_type": "display_data"
    }
   ],
   "source": [
    "plt.figure(figsize=(12, 4))\n",
    "plt.boxplot(df_filtered['vote_average'],\n",
    "            vert=False,\n",
    "            patch_artist=True,\n",
    "            boxprops=dict(facecolor='#be71ff', color='black'),\n",
    "            medianprops=dict(color='green'))\n",
    "\n",
    "plt.title('Боксплот - оценки пользователей', fontsize=16)\n",
    "plt.xlabel('Значение vote_average(оценки пользователей)', fontsize=13)\n",
    "\n",
    "plt.show()"
   ]
  },
  {
   "cell_type": "markdown",
   "id": "4565ee05",
   "metadata": {},
   "source": [
    "- Основная часть оценок приходится на значения ~5.6-6.97. Слева у нас наблюдается много выбросов, справа выбросы тоже есть, но их меньше. \n",
    "- Низкая оценка, как и ее отсутствие, может быть связана с малой популярностью фильма, возможно даже полным отсутствием популярности. \n",
    "- Высокая оценка может быть связана с большой положительной популярностью фильма, а также присутствует и такой вариант, что фильм не особо известен, у него не так много оценок - но все высокие. Тогда наша средняя оценка сильно завышается"
   ]
  },
  {
   "cell_type": "markdown",
   "id": "ba9f2623",
   "metadata": {},
   "source": [
    "### Уникальные значения"
   ]
  },
  {
   "cell_type": "markdown",
   "id": "98a09001",
   "metadata": {},
   "source": [
    "- Уникальные значения в жанрах"
   ]
  },
  {
   "cell_type": "code",
   "execution_count": 52,
   "id": "ea9508ba",
   "metadata": {},
   "outputs": [
    {
     "data": {
      "text/plain": [
       "genres\n",
       "drama                                                            996\n",
       "comedy                                                           917\n",
       "drama, romance                                                   487\n",
       "comedy, drama                                                    425\n",
       "comedy, romance                                                  410\n",
       "                                                                ... \n",
       "mystery, drama, thriller, comedy                                   1\n",
       "family, comedy, adventure, animation, fantasy                      1\n",
       "adventure, action, fantasy, war, history                           1\n",
       "action, adventure, comedy, fantasy, science fiction, thriller      1\n",
       "action, documentary                                                1\n",
       "Name: count, Length: 2331, dtype: int64"
      ]
     },
     "execution_count": 52,
     "metadata": {},
     "output_type": "execute_result"
    }
   ],
   "source": [
    "df_filtered['genres'].value_counts()"
   ]
  },
  {
   "cell_type": "markdown",
   "id": "45c2707a",
   "metadata": {},
   "source": [
    "- У нас встречаются строки с перечислением нескольких жанров. Для нашего исследования мы оставляем их в исходном виде. При построении дашборда предполагается использовать проверку по жанрам через оператор LIKE (SQL)"
   ]
  },
  {
   "cell_type": "code",
   "execution_count": 53,
   "id": "820783f3",
   "metadata": {},
   "outputs": [
    {
     "name": "stdout",
     "output_type": "stream",
     "text": [
      "У 93 фильмов отсутствует информация о жанрах\n"
     ]
    }
   ],
   "source": [
    "print(f'''У {df_filtered['genres'].isnull().sum()} фильмов отсутствует информация о жанрах''')"
   ]
  },
  {
   "cell_type": "markdown",
   "id": "dde7cfad",
   "metadata": {},
   "source": [
    "- Нулевые значения можно заменить на \"undefined\""
   ]
  },
  {
   "cell_type": "code",
   "execution_count": 54,
   "id": "55356476",
   "metadata": {},
   "outputs": [
    {
     "name": "stderr",
     "output_type": "stream",
     "text": [
      "/tmp/ipykernel_8960/3432640581.py:1: SettingWithCopyWarning: \n",
      "A value is trying to be set on a copy of a slice from a DataFrame.\n",
      "Try using .loc[row_indexer,col_indexer] = value instead\n",
      "\n",
      "See the caveats in the documentation: https://pandas.pydata.org/pandas-docs/stable/user_guide/indexing.html#returning-a-view-versus-a-copy\n",
      "  df_filtered['genres'] = df_filtered['genres'].fillna('undefined')\n"
     ]
    }
   ],
   "source": [
    "df_filtered['genres'] = df_filtered['genres'].fillna('undefined')"
   ]
  },
  {
   "cell_type": "code",
   "execution_count": 55,
   "id": "e23a49b0",
   "metadata": {},
   "outputs": [
    {
     "data": {
      "text/plain": [
       "genres\n",
       "drama                                            996\n",
       "comedy                                           917\n",
       "drama, romance                                   487\n",
       "comedy, drama                                    425\n",
       "comedy, romance                                  410\n",
       "                                                ... \n",
       "war, action, history, thriller                     1\n",
       "mystery, drama, thriller, comedy                   1\n",
       "family, comedy, adventure, animation, fantasy      1\n",
       "adventure, action, fantasy, war, history           1\n",
       "action, documentary                                1\n",
       "Name: count, Length: 2332, dtype: int64"
      ]
     },
     "execution_count": 55,
     "metadata": {},
     "output_type": "execute_result"
    }
   ],
   "source": [
    "df_filtered['genres'].value_counts()"
   ]
  },
  {
   "cell_type": "markdown",
   "id": "71918e44",
   "metadata": {},
   "source": [
    "Изучим уникальные данные по столбцу с original_language"
   ]
  },
  {
   "cell_type": "code",
   "execution_count": 56,
   "id": "49a9d18a",
   "metadata": {},
   "outputs": [
    {
     "data": {
      "text/plain": [
       "original_language\n",
       "en    676047\n",
       "fr     72737\n",
       "es     63734\n",
       "de     57953\n",
       "ja     54513\n",
       "       ...  \n",
       "ts         1\n",
       "ii         1\n",
       "rn         1\n",
       "an         1\n",
       "kg         1\n",
       "Name: count, Length: 176, dtype: int64"
      ]
     },
     "execution_count": 56,
     "metadata": {},
     "output_type": "execute_result"
    }
   ],
   "source": [
    "df_tmdb['original_language'].value_counts()"
   ]
  },
  {
   "cell_type": "markdown",
   "id": "13cb4233",
   "metadata": {},
   "source": [
    "- Пропуски отсутствуют - данные выглядят полными"
   ]
  },
  {
   "cell_type": "markdown",
   "id": "c75e8f54",
   "metadata": {},
   "source": [
    "### Учет инфляции "
   ]
  },
  {
   "cell_type": "markdown",
   "id": "e47ccfa7",
   "metadata": {},
   "source": [
    "Добавим два столбца:\n",
    "- `current_budget` - бюджет с учетом инфляции\n",
    "- `current_revenue` - кассовые сборы с учетом инфляции"
   ]
  },
  {
   "cell_type": "code",
   "execution_count": 57,
   "id": "2a6f9591",
   "metadata": {},
   "outputs": [
    {
     "name": "stderr",
     "output_type": "stream",
     "text": [
      "/tmp/ipykernel_8960/4200148618.py:1: SettingWithCopyWarning: \n",
      "A value is trying to be set on a copy of a slice from a DataFrame.\n",
      "Try using .loc[row_indexer,col_indexer] = value instead\n",
      "\n",
      "See the caveats in the documentation: https://pandas.pydata.org/pandas-docs/stable/user_guide/indexing.html#returning-a-view-versus-a-copy\n",
      "  df_filtered['current_budget'] = (\n"
     ]
    },
    {
     "data": {
      "text/html": [
       "<div>\n",
       "<style scoped>\n",
       "    .dataframe tbody tr th:only-of-type {\n",
       "        vertical-align: middle;\n",
       "    }\n",
       "\n",
       "    .dataframe tbody tr th {\n",
       "        vertical-align: top;\n",
       "    }\n",
       "\n",
       "    .dataframe thead th {\n",
       "        text-align: right;\n",
       "    }\n",
       "</style>\n",
       "<table border=\"1\" class=\"dataframe\">\n",
       "  <thead>\n",
       "    <tr style=\"text-align: right;\">\n",
       "      <th></th>\n",
       "      <th>budget</th>\n",
       "      <th>current_budget</th>\n",
       "    </tr>\n",
       "  </thead>\n",
       "  <tbody>\n",
       "    <tr>\n",
       "      <th>7</th>\n",
       "      <td>63000000</td>\n",
       "      <td>120406034.48</td>\n",
       "    </tr>\n",
       "    <tr>\n",
       "      <th>9</th>\n",
       "      <td>8500000</td>\n",
       "      <td>18289508.03</td>\n",
       "    </tr>\n",
       "    <tr>\n",
       "      <th>12</th>\n",
       "      <td>140000000</td>\n",
       "      <td>209498517.38</td>\n",
       "    </tr>\n",
       "  </tbody>\n",
       "</table>\n",
       "</div>"
      ],
      "text/plain": [
       "       budget  current_budget\n",
       "7    63000000    120406034.48\n",
       "9     8500000     18289508.03\n",
       "12  140000000    209498517.38"
      ]
     },
     "execution_count": 57,
     "metadata": {},
     "output_type": "execute_result"
    }
   ],
   "source": [
    "df_filtered['current_budget'] = (\n",
    "    df_filtered['budget'] * (latest_cpi / df_filtered['cpi'])\n",
    ")\n",
    "df_filtered[['budget', 'current_budget']].head(3)"
   ]
  },
  {
   "cell_type": "code",
   "execution_count": 58,
   "id": "46d9b91d",
   "metadata": {},
   "outputs": [
    {
     "name": "stderr",
     "output_type": "stream",
     "text": [
      "/tmp/ipykernel_8960/3040352102.py:1: SettingWithCopyWarning: \n",
      "A value is trying to be set on a copy of a slice from a DataFrame.\n",
      "Try using .loc[row_indexer,col_indexer] = value instead\n",
      "\n",
      "See the caveats in the documentation: https://pandas.pydata.org/pandas-docs/stable/user_guide/indexing.html#returning-a-view-versus-a-copy\n",
      "  df_filtered['current_revenue'] = (\n"
     ]
    },
    {
     "data": {
      "text/html": [
       "<div>\n",
       "<style scoped>\n",
       "    .dataframe tbody tr th:only-of-type {\n",
       "        vertical-align: middle;\n",
       "    }\n",
       "\n",
       "    .dataframe tbody tr th {\n",
       "        vertical-align: top;\n",
       "    }\n",
       "\n",
       "    .dataframe thead th {\n",
       "        text-align: right;\n",
       "    }\n",
       "</style>\n",
       "<table border=\"1\" class=\"dataframe\">\n",
       "  <thead>\n",
       "    <tr style=\"text-align: right;\">\n",
       "      <th></th>\n",
       "      <th>revenue</th>\n",
       "      <th>current_revenue</th>\n",
       "    </tr>\n",
       "  </thead>\n",
       "  <tbody>\n",
       "    <tr>\n",
       "      <th>7</th>\n",
       "      <td>100853753</td>\n",
       "      <td>192752388.28</td>\n",
       "    </tr>\n",
       "    <tr>\n",
       "      <th>9</th>\n",
       "      <td>213900000</td>\n",
       "      <td>460250090.36</td>\n",
       "    </tr>\n",
       "    <tr>\n",
       "      <th>12</th>\n",
       "      <td>585174222</td>\n",
       "      <td>875665228.00</td>\n",
       "    </tr>\n",
       "  </tbody>\n",
       "</table>\n",
       "</div>"
      ],
      "text/plain": [
       "      revenue  current_revenue\n",
       "7   100853753     192752388.28\n",
       "9   213900000     460250090.36\n",
       "12  585174222     875665228.00"
      ]
     },
     "execution_count": 58,
     "metadata": {},
     "output_type": "execute_result"
    }
   ],
   "source": [
    "df_filtered['current_revenue'] = (\n",
    "    df_filtered['revenue'] * (latest_cpi / df_filtered['cpi'])\n",
    ")\n",
    "df_filtered[['revenue', 'current_revenue']].head(3)"
   ]
  },
  {
   "cell_type": "markdown",
   "id": "b1c6c865",
   "metadata": {},
   "source": [
    "### Итог "
   ]
  },
  {
   "cell_type": "code",
   "execution_count": 59,
   "id": "e00bf37f",
   "metadata": {},
   "outputs": [
    {
     "name": "stdout",
     "output_type": "stream",
     "text": [
      "<class 'pandas.core.frame.DataFrame'>\n",
      "Index: 13413 entries, 7 to 995548\n",
      "Data columns (total 15 columns):\n",
      " #   Column                Non-Null Count  Dtype         \n",
      "---  ------                --------------  -----         \n",
      " 0   id                    13413 non-null  int64         \n",
      " 1   title                 13413 non-null  object        \n",
      " 2   vote_average          13413 non-null  float64       \n",
      " 3   release_date          13413 non-null  datetime64[ns]\n",
      " 4   revenue               13413 non-null  int64         \n",
      " 5   budget                13413 non-null  int64         \n",
      " 6   original_language     13413 non-null  object        \n",
      " 7   original_title        13413 non-null  object        \n",
      " 8   genres                13413 non-null  object        \n",
      " 9   production_countries  13061 non-null  object        \n",
      " 10  release_month         13413 non-null  datetime64[ns]\n",
      " 11  cpi_date              13413 non-null  datetime64[ns]\n",
      " 12  cpi                   13413 non-null  float64       \n",
      " 13  current_budget        13413 non-null  float64       \n",
      " 14  current_revenue       13413 non-null  float64       \n",
      "dtypes: datetime64[ns](3), float64(4), int64(3), object(5)\n",
      "memory usage: 1.6+ MB\n"
     ]
    }
   ],
   "source": [
    "df_filtered.info()"
   ]
  },
  {
   "cell_type": "code",
   "execution_count": 60,
   "id": "3d008c9a",
   "metadata": {},
   "outputs": [],
   "source": [
    "columns_to_keep = [\n",
    "    \"id\",\n",
    "    \"title\",                 \n",
    "    \"original_title\",        \n",
    "    \"original_language\",     \n",
    "    \"release_date\",          \n",
    "    \"genres\",                \n",
    "    \"budget\",                \n",
    "    \"revenue\",               \n",
    "    \"vote_average\",          \n",
    "    \"production_countries\",\n",
    "    \"cpi\", \n",
    "    \"current_budget\",\n",
    "    \"current_revenue\"  \n",
    "]"
   ]
  },
  {
   "cell_type": "code",
   "execution_count": 61,
   "id": "68d7dcd6",
   "metadata": {},
   "outputs": [
    {
     "name": "stdout",
     "output_type": "stream",
     "text": [
      "<class 'pandas.core.frame.DataFrame'>\n",
      "RangeIndex: 13413 entries, 0 to 13412\n",
      "Data columns (total 13 columns):\n",
      " #   Column                Non-Null Count  Dtype         \n",
      "---  ------                --------------  -----         \n",
      " 0   id                    13413 non-null  int64         \n",
      " 1   title                 13413 non-null  object        \n",
      " 2   original_title        13413 non-null  object        \n",
      " 3   original_language     13413 non-null  object        \n",
      " 4   release_date          13413 non-null  datetime64[ns]\n",
      " 5   genres                13413 non-null  object        \n",
      " 6   budget                13413 non-null  int64         \n",
      " 7   revenue               13413 non-null  int64         \n",
      " 8   vote_average          13413 non-null  float64       \n",
      " 9   production_countries  13061 non-null  object        \n",
      " 10  cpi                   13413 non-null  float64       \n",
      " 11  current_budget        13413 non-null  float64       \n",
      " 12  current_revenue       13413 non-null  float64       \n",
      "dtypes: datetime64[ns](1), float64(4), int64(3), object(5)\n",
      "memory usage: 1.3+ MB\n"
     ]
    }
   ],
   "source": [
    "df_filtered = df_filtered[columns_to_keep].copy()\n",
    "df_filtered = df_filtered.reset_index(drop=True)\n",
    "df_filtered.info()"
   ]
  },
  {
   "cell_type": "code",
   "execution_count": 62,
   "id": "5ff1ffc8",
   "metadata": {},
   "outputs": [
    {
     "data": {
      "text/plain": [
       "Timestamp('1913-11-24 00:00:00')"
      ]
     },
     "execution_count": 62,
     "metadata": {},
     "output_type": "execute_result"
    }
   ],
   "source": [
    "df_filtered['release_date'].min()\n"
   ]
  },
  {
   "cell_type": "code",
   "execution_count": null,
   "id": "a1708dd9",
   "metadata": {},
   "outputs": [],
   "source": []
  },
  {
   "cell_type": "code",
   "execution_count": 63,
   "id": "35af005d",
   "metadata": {},
   "outputs": [
    {
     "name": "stdout",
     "output_type": "stream",
     "text": [
      "Наш отфильтрованный и предобработанный датасет состоит из:\n",
      "- 13413 строк\n",
      "- 13 столбцов\n"
     ]
    }
   ],
   "source": [
    "print(f'''Наш отфильтрованный и предобработанный датасет состоит из:\n",
    "- {df_filtered.shape[0]} строк\n",
    "- {df_filtered.shape[1]} столбцов''')"
   ]
  },
  {
   "cell_type": "markdown",
   "id": "b5e34d28",
   "metadata": {},
   "source": [
    "\n",
    "\n",
    "- `id` - уникальный идентификатор фильма\n",
    "- `title` - англоязычное название фильма\n",
    "- `original_title` - оригинальное название фильма\n",
    "- `original_language` - язык оригинала\n",
    "- `release_date` - дата выхода фильма\n",
    "- `genres` - жанры фильма\n",
    "- `budget` - бюджет фильма (в долларах)\n",
    "- `revenue` - кассовые сборы, доход (в долларах)\n",
    "- `vote_average` - рейтинг фильма, основанный на пользовательских голосах\n",
    "- `main_country` - главная страна, учавствовавшая в производстве фильма\n",
    "- `cpi` - cpi на дату выхода фильма\n",
    "- `latest_cpi` - актуальный cpi\n",
    "- `current_budget` - сумма бюджета с учетом инфляции\n",
    "- `current_revenue` - сумма кассовых сборов с учетом инфляции"
   ]
  },
  {
   "cell_type": "markdown",
   "id": "c28ba77c",
   "metadata": {},
   "source": [
    " ## Графики (примеры + могут дополняться)"
   ]
  },
  {
   "cell_type": "markdown",
   "id": "da854557",
   "metadata": {},
   "source": [
    "**scatter plot - corrent_revenue vs vote_average**\n"
   ]
  },
  {
   "cell_type": "code",
   "execution_count": 64,
   "id": "7d0bd833",
   "metadata": {},
   "outputs": [
    {
     "data": {
      "image/png": "[encoded data removed]",
      "text/plain": [
       "<Figure size 640x480 with 1 Axes>"
      ]
     },
     "metadata": {},
     "output_type": "display_data"
    }
   ],
   "source": [
    "plt.scatter(\n",
    "    df_filtered['current_revenue'],\n",
    "    df_filtered['vote_average'],\n",
    "    alpha=0.5,\n",
    "    color='#be71ff',\n",
    "    edgecolors='black'\n",
    ")\n",
    "plt.gca().xaxis.set_major_formatter(FuncFormatter(millions))\n",
    "plt.title('Зависимость рейтинга от кассовых сборов')\n",
    "plt.xlabel('Кассовые сборы')\n",
    "plt.ylabel('Рейтинг фильма')\n",
    "plt.show()"
   ]
  },
  {
   "cell_type": "markdown",
   "id": "04495971",
   "metadata": {},
   "source": [
    "- Уберем выбросы"
   ]
  },
  {
   "cell_type": "code",
   "execution_count": 65,
   "id": "0ce2cabc",
   "metadata": {},
   "outputs": [
    {
     "data": {
      "image/png": "[encoded data removed]",
      "text/plain": [
       "<Figure size 640x480 with 1 Axes>"
      ]
     },
     "metadata": {},
     "output_type": "display_data"
    }
   ],
   "source": [
    "plt.scatter(\n",
    "    df_filtered[df_filtered['current_revenue'] < 2000000000]['current_revenue'],\n",
    "    df_filtered[df_filtered['current_revenue'] < 2000000000]['vote_average'],\n",
    "    alpha=0.5,\n",
    "    color='#be71ff',\n",
    "    edgecolors='black'\n",
    ")\n",
    "plt.gca().xaxis.set_major_formatter(FuncFormatter(millions))\n",
    "plt.title('Зависимость рейтинга от кассовых сборов')\n",
    "plt.xlabel('Кассовые сборы')\n",
    "plt.ylabel('Рейтинг фильма')\n",
    "plt.show()"
   ]
  },
  {
   "cell_type": "markdown",
   "id": "01caf7f4",
   "metadata": {},
   "source": [
    "- Большинство фильмов имеют относительно низкие сборы, вне зависимости от рейтинга.\n",
    "- Высокие сборы - чаще высокие рейтинги. На графике видно, что с увеличением значения кассовых сборов, фильмов становится меньше, однако рейтинг у них держится в районе 6-9."
   ]
  },
  {
   "cell_type": "markdown",
   "id": "825a87ee",
   "metadata": {},
   "source": [
    "**Линейный график - кол-во фильмов**"
   ]
  },
  {
   "cell_type": "code",
   "execution_count": 66,
   "id": "abd77e2b",
   "metadata": {},
   "outputs": [],
   "source": [
    "df_filtered['year'] = pd.to_datetime(df_filtered['release_date']).dt.year"
   ]
  },
  {
   "cell_type": "code",
   "execution_count": 67,
   "id": "7144c091",
   "metadata": {},
   "outputs": [
    {
     "data": {
      "text/html": [
       "<div>\n",
       "<style scoped>\n",
       "    .dataframe tbody tr th:only-of-type {\n",
       "        vertical-align: middle;\n",
       "    }\n",
       "\n",
       "    .dataframe tbody tr th {\n",
       "        vertical-align: top;\n",
       "    }\n",
       "\n",
       "    .dataframe thead th {\n",
       "        text-align: right;\n",
       "    }\n",
       "</style>\n",
       "<table border=\"1\" class=\"dataframe\">\n",
       "  <thead>\n",
       "    <tr style=\"text-align: right;\">\n",
       "      <th></th>\n",
       "      <th>year</th>\n",
       "      <th>count</th>\n",
       "    </tr>\n",
       "  </thead>\n",
       "  <tbody>\n",
       "    <tr>\n",
       "      <th>108</th>\n",
       "      <td>1913</td>\n",
       "      <td>1</td>\n",
       "    </tr>\n",
       "    <tr>\n",
       "      <th>106</th>\n",
       "      <td>1914</td>\n",
       "      <td>2</td>\n",
       "    </tr>\n",
       "    <tr>\n",
       "      <th>111</th>\n",
       "      <td>1915</td>\n",
       "      <td>1</td>\n",
       "    </tr>\n",
       "    <tr>\n",
       "      <th>102</th>\n",
       "      <td>1916</td>\n",
       "      <td>3</td>\n",
       "    </tr>\n",
       "    <tr>\n",
       "      <th>105</th>\n",
       "      <td>1918</td>\n",
       "      <td>2</td>\n",
       "    </tr>\n",
       "  </tbody>\n",
       "</table>\n",
       "</div>"
      ],
      "text/plain": [
       "     year  count\n",
       "108  1913      1\n",
       "106  1914      2\n",
       "111  1915      1\n",
       "102  1916      3\n",
       "105  1918      2"
      ]
     },
     "execution_count": 67,
     "metadata": {},
     "output_type": "execute_result"
    }
   ],
   "source": [
    "films_year = df_filtered['year'].value_counts()\n",
    "films_year = films_year.reset_index(drop=False)\n",
    "films_year = films_year.sort_values(by='year')\n",
    "films_year.head()"
   ]
  },
  {
   "cell_type": "code",
   "execution_count": 68,
   "id": "558f3ced",
   "metadata": {},
   "outputs": [
    {
     "data": {
      "image/png": "[encoded data removed]",
      "text/plain": [
       "<Figure size 1500x500 with 1 Axes>"
      ]
     },
     "metadata": {},
     "output_type": "display_data"
    }
   ],
   "source": [
    "plt.figure(figsize=(15, 5))\n",
    "\n",
    "plt.plot(films_year['year'],\n",
    "         films_year['count'],\n",
    "          color='#be71ff')\n",
    "\n",
    "plt.title('Количество фильмов, выпущенных в год')\n",
    "plt.xlabel('Год релиза')\n",
    "plt.ylabel('Количество фильмов')\n",
    "plt.grid(axis='y')\n",
    "plt.show()"
   ]
  },
  {
   "cell_type": "markdown",
   "id": "4141b064",
   "metadata": {},
   "source": [
    "продолжение следует..."
   ]
  }
 ],
 "metadata": {
  "kernelspec": {
   "display_name": ".venv",
   "language": "python",
   "name": "python3"
  },
  "language_info": {
   "codemirror_mode": {
    "name": "ipython",
    "version": 3
   },
   "file_extension": ".py",
   "mimetype": "text/x-python",
   "name": "python",
   "nbconvert_exporter": "python",
   "pygments_lexer": "ipython3",
   "version": "3.10.13"
  }
 },
 "nbformat": 4,
 "nbformat_minor": 5
}
